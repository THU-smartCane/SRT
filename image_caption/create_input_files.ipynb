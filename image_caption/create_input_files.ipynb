{
 "cells": [
  {
   "cell_type": "code",
   "execution_count": 8,
   "metadata": {},
   "outputs": [
    {
     "ename": "FileNotFoundError",
     "evalue": "[Errno 2] No such file or directory: '../caption data/dataset_coco.json'",
     "output_type": "error",
     "traceback": [
      "\u001b[0;31m---------------------------------------------------------------------------\u001b[0m",
      "\u001b[0;31mFileNotFoundError\u001b[0m                         Traceback (most recent call last)",
      "\u001b[0;32m<ipython-input-8-084226651eaf>\u001b[0m in \u001b[0;36m<module>\u001b[0;34m\u001b[0m\n\u001b[1;32m     11\u001b[0m                        \u001b[0;31m#output_folder='/media/ssd/caption data/',\u001b[0m\u001b[0;34m\u001b[0m\u001b[0;34m\u001b[0m\u001b[0;34m\u001b[0m\u001b[0m\n\u001b[1;32m     12\u001b[0m                        \u001b[0moutput_folder\u001b[0m \u001b[0;34m=\u001b[0m \u001b[0mdir\u001b[0m\u001b[0;34m,\u001b[0m\u001b[0;34m\u001b[0m\u001b[0;34m\u001b[0m\u001b[0m\n\u001b[0;32m---> 13\u001b[0;31m                        max_len=50)\n\u001b[0m",
      "\u001b[0;32m~/image_caption/utils.ipynb\u001b[0m in \u001b[0;36mcreate_input_files\u001b[0;34m(dataset, karpathy_json_path, image_folder, captions_per_image, min_word_freq, output_folder, max_len)\u001b[0m\n",
      "\u001b[0;31mFileNotFoundError\u001b[0m: [Errno 2] No such file or directory: '../caption data/dataset_coco.json'"
     ]
    }
   ],
   "source": [
    "import ipynb_importer\n",
    "from utils import create_input_files\n",
    "out_dir = ''\n",
    "if __name__ == '__main__':\n",
    "    # Create input files (along with word map)\n",
    "    create_input_files(dataset='coco',\n",
    "                       karpathy_json_path='../caption data/dataset_coco.json',\n",
    "                       image_folder='/media/ssd/caption data/',\n",
    "                       captions_per_image=5,\n",
    "                       min_word_freq=5,\n",
    "                       #output_folder='/media/ssd/caption data/',\n",
    "                       output_folder = out_dir,\n",
    "                       max_len=50)"
   ]
  },
  {
   "cell_type": "code",
   "execution_count": null,
   "metadata": {},
   "outputs": [],
   "source": []
  }
 ],
 "metadata": {
  "kernelspec": {
   "display_name": "mypytorch",
   "language": "python",
   "name": "pytorch"
  },
  "language_info": {
   "codemirror_mode": {
    "name": "ipython",
    "version": 3
   },
   "file_extension": ".py",
   "mimetype": "text/x-python",
   "name": "python",
   "nbconvert_exporter": "python",
   "pygments_lexer": "ipython3",
   "version": "3.7.6"
  }
 },
 "nbformat": 4,
 "nbformat_minor": 2
}
